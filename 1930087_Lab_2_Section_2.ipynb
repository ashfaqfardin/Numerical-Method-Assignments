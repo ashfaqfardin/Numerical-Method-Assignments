{
  "cells": [
    {
      "cell_type": "markdown",
      "metadata": {
        "id": "view-in-github",
        "colab_type": "text"
      },
      "source": [
        "<a href=\"https://colab.research.google.com/github/ashfaqfardin/Numerical-Method-Assignments/blob/main/1930087_Lab_2_Section_2.ipynb\" target=\"_parent\"><img src=\"https://colab.research.google.com/assets/colab-badge.svg\" alt=\"Open In Colab\"/></a>"
      ]
    },
    {
      "cell_type": "markdown",
      "metadata": {
        "id": "ih14hs94yBEI"
      },
      "source": [
        "In this lab, we will explore the Taylor series expansion of a function.  We will use the Taylor series expansion to approximate the value of a function at a point. Also, we will visualize how the order of the Taylor series expansion affects the accuracy of the approximation.\n",
        "\n",
        "#### **Taylor Series Expansion of a Function**\n",
        "The Taylor series expansion of is a representation of the function by an infinite series of polynomials centered at the point.  The Taylor series expansion of a function $f(x)$ is given by\n",
        "\n",
        "$$f(x) = \\sum_{n=0}^{\\infty} \\frac{f^{(n)}(a)}{n!}(x-a)^n$$\n",
        "\n",
        "where $f^{(n)}(a)$ is the $n$ th derivative of $f(x)$ evaluated at $a$.\n",
        "\n",
        "##### **Example**\n",
        "Consider the function $f(x) = e^x$ and the point $a = 0$.  The Taylor series expansion of $f(x)$ centered at $a$ is given by\n",
        "\n",
        "$$\n",
        "\\begin{align*}\n",
        "  f(x) &= \\frac{f^{(0)}(a)(x-a)^0}{0!} + \\frac{f^{(1)}(a)(x-a)^1}{1!} + \\frac{f^{(2)}(a)(x-a)^2}{2!} + \\frac{f^{(3)}(a)(x-a)^3}{3!} + \\cdots \\\\\n",
        "  &= \\frac{f^{(0)}(0)(x-0)^0}{0!} + \\frac{f^{(1)}(0)(x-0)^1}{1!} + \\frac{f^{(2)}(0)(x-0)^2}{2!} + \\frac{f^{(3)}(0)(x-0)^3}{3!} + \\cdots \\\\\n",
        "  &= \\frac{1}{0!} + \\frac{x}{1!} + \\frac{x^2}{2!} + \\frac{x^3}{3!} + \\cdots \\\\\n",
        "  &= 1 + x + \\frac{x^2}{2} + \\frac{x^3}{6} + \\cdots\n",
        "\\end{align*}\n",
        "$$\n",
        "\n",
        "The final expression is an infinite series of polynomials.  The first term is the constant term, the second term is the linear term, the third term is the quadratic term, the fourth term is the cubic term, and so on.  The more terms we include in the series, the more accurate the approximation of the function becomes. We will explore this in the next section."
      ]
    },
    {
      "cell_type": "markdown",
      "metadata": {
        "id": "j3tY-vJ8yBEJ"
      },
      "source": [
        "#### **Approximation using Taylor Series**\n",
        "We can approximate the value of a function at a point by using the Taylor series expansion of the function. We have already seen an example of how to expand a function using the Taylor series expansion.  In this section, we will use the Taylor series expansion to approximate the value of a function at a point. \n",
        "\n",
        "But, the Taylor series expansion is an infinite series and we oviously cannot compute the value of an infinite series. So, we will use the first few terms of the Taylor series expansion to approximate the value of the function at a point. The number of terms we use in the Taylor series expansion is related to the order of the Taylor series expansion.  The order of the Taylor series expansion is one less than the number of terms in the Taylor series expansion.  For example, if we use the first three terms of the Taylor series expansion, the order of the Taylor series expansion is 2.  If we use the first four terms of the Taylor series expansion, the order of the Taylor series expansion is 3.  And so on.\n",
        "\n",
        "Now, we will try to approximate the function $f(x) = e^{-x}$ at the point $a = 0$ and observe the effect of the order of the Taylor series expansion on the accuracy of the approximation. Follow the steps below to complete the task."
      ]
    },
    {
      "cell_type": "markdown",
      "metadata": {
        "id": "XE63JPvuyBEL"
      },
      "source": [
        "##### **Step 01: Import the required libraries**\n",
        "We will be using the numpy to deal with arrays and the matplotlib to plot the function and its approximation. Import these two libraries in the cell below."
      ]
    },
    {
      "cell_type": "code",
      "execution_count": null,
      "metadata": {
        "id": "P3tad01UyBEM"
      },
      "outputs": [],
      "source": [
        "# Write appropiate code here\n",
        "import numpy as np\n",
        "import matplotlib.pyplot as plt"
      ]
    },
    {
      "cell_type": "markdown",
      "metadata": {
        "id": "PHVljPX0yBEN"
      },
      "source": [
        "##### **Step 02: Define the function and its derivative**\n",
        "Write a function that takes $x$ as an argument and returns the value of $f(x)$.  Also, write the following functions that return the value of the first, second, third, and fourth derivatives of $f(x)$.\n",
        "\n",
        ">1. `f1(x)`: returns the value of the first derivative of $f(x)$\n",
        ">2. `f2(x)`: returns the value of the second derivative of $f(x)$\n",
        ">3. `f3(x)`: returns the value of the third derivative of $f(x)$\n",
        ">4. `f4(x)`: returns the value of the fourth derivative of $f(x)$"
      ]
    },
    {
      "cell_type": "code",
      "execution_count": null,
      "metadata": {
        "id": "_uaE5CYAyBEN"
      },
      "outputs": [],
      "source": [
        "# Write appropiate code here\n",
        "def f(x):\n",
        "  return np.exp(-x)\n",
        "\n",
        "def f1(x):\n",
        "  return -np.exp(-x)\n",
        "\n",
        "def f2(x):\n",
        "  return np.exp(-x)\n",
        "\n",
        "def f3(x):\n",
        "  return -np.exp(-x)\n",
        "\n",
        "def f4(x):\n",
        "  return np.exp(-x)"
      ]
    },
    {
      "cell_type": "markdown",
      "metadata": {
        "id": "ZWJ1U86zyBEO"
      },
      "source": [
        "##### **Step 03: Generalize the derivative functions**\n",
        "The functions `f1(x)`, `f2(x)`, `f3(x)`, and `f4(x)` that you wrote in the previous step are specific to the function $f(x) = e^{-x}$.  Now, write a generalized function that takes the order of the derivative as an argument and returns the value of the derivative of $f(x)$.\n",
        "\n",
        "> `fn(x, n)`: returns the value of the $n$ th derivative of $f(x)$"
      ]
    },
    {
      "cell_type": "code",
      "execution_count": null,
      "metadata": {
        "id": "d9NBZYRFyBEO"
      },
      "outputs": [],
      "source": [
        "# Write appropiate code here\n",
        "def fn(x, n):\n",
        "  return (-1)**n * np.exp(-x)"
      ]
    },
    {
      "cell_type": "markdown",
      "metadata": {
        "id": "5SpAAbduyBEP"
      },
      "source": [
        "##### **Step 04: Define the Taylor series expansion function**\n",
        "Write a function that takes $x$, $a$, and $n$ as arguments and returns the value of the Taylor series expansion of $f(x)$ at $a$ with order $n$.\n",
        "\n",
        "> `taylor(x, a, n)`: returns the value of the Taylor series expansion of $f(x)$ at $a$ using the first $n$ terms of the Taylor series expansion"
      ]
    },
    {
      "cell_type": "code",
      "source": [
        "def f_taylor_lengthy(x):\n",
        "  return f(0) + f1(0) * x +(f2(0) * x**2)/ np.math.factorial(2) + (f3(0) * x**3)/ np.math.factorial(3) + (f4(0) * x**4)/ np.math.factorial(4)\n",
        "\n",
        "x = 1\n",
        "print(f(x))\n",
        "print(f_taylor_lengthy(x))"
      ],
      "metadata": {
        "colab": {
          "base_uri": "https://localhost:8080/"
        },
        "id": "muhE7BKc64es",
        "outputId": "03b68452-a564-4aca-d7cf-4cca447e9bf7"
      },
      "execution_count": null,
      "outputs": [
        {
          "output_type": "stream",
          "name": "stdout",
          "text": [
            "0.36787944117144233\n",
            "0.37500000000000006\n"
          ]
        }
      ]
    },
    {
      "cell_type": "code",
      "execution_count": null,
      "metadata": {
        "id": "iYdnUJ-gyBEP"
      },
      "outputs": [],
      "source": [
        "# Write appropiate code here\n",
        "def f_taylor(x, a, n):\n",
        "  sum = 0\n",
        "  for i in range(n+1):\n",
        "    sum = sum + (fn(a, i) * (x-a)**i)/np.math.factorial(i)\n",
        "  return sum"
      ]
    },
    {
      "cell_type": "markdown",
      "metadata": {
        "id": "jr1o8TedyBEP"
      },
      "source": [
        "##### **Step 05: Approximate the value of the function at a point**\n",
        "Using the function `taylor(x, a, n)`, approximate the value of $f(x)$ at $x = 1$ using the first $5$ terms of the Taylor series expansion.  Also, compute the value of $f(x)$ at $x = 1$ using the function `f(x)` that you wrote in the previous step.  Find the absolute difference between the two values to determine the accuracy of the approximation."
      ]
    },
    {
      "cell_type": "code",
      "execution_count": null,
      "metadata": {
        "id": "wrTIo4-qyBEQ",
        "colab": {
          "base_uri": "https://localhost:8080/"
        },
        "outputId": "79535bc0-0b6c-4477-acb5-1e8d310a37de"
      },
      "outputs": [
        {
          "output_type": "stream",
          "name": "stdout",
          "text": [
            "0.36787944117144233\n",
            "0.37500000000000006\n",
            "0.36787944117144245\n"
          ]
        }
      ],
      "source": [
        "# Write appropiate code here\n",
        "x = 1\n",
        "print(f(x))\n",
        "print(f_taylor_lengthy(x))\n",
        "print(f_taylor(x, 0, 30))"
      ]
    },
    {
      "cell_type": "markdown",
      "metadata": {
        "id": "wKl3trPvyBEQ"
      },
      "source": [
        "##### **Step 06: Show the visual difference between the approximation and the actual function**\n",
        "Now, we will see how good the approximation is by plotting the function and the Taylor series expansion of the function at different orders.  Follow the steps below to complete the task.\n",
        "\n",
        ">1. Define a list of values of `x` from $-2$ to $2$ with a step size of $0.1$.\n",
        ">2. Define a list of values of `y` by evaluating the function $f(x)$ at each value of $x$.\n",
        ">3. Define a list of values of `y_app` by evaluating the Taylor series expansion of $f(x)$ at each value of $x$ using the first $n$ terms of the Taylor series expansion starting from $n=1$ to $n=4$.\n",
        ">4. Plot the function $f(x)$ and the Taylor series expansion of $f(x)$ at different orders.  Use the following colors for the plots.\n",
        ">    * $n = 1$: red\n",
        ">    * $n = 2$: green\n",
        ">    * $n = 3$: blue\n",
        ">    * $n = 4$: black\n",
        ">5. Add a legend to the plot.\n",
        ">6. Add labels to the $x$ and $y$ axes.\n",
        ">7. Add a title to the plot.\n",
        "\n",
        "See the effect of the order of the Taylor series expansion on the accuracy of the approximation.  The more terms we include in the Taylor series expansion, the more accurate the approximation becomes.  But, the more terms we include in the Taylor series expansion, the more complex the Taylor series expansion becomes.  So, we need to find a balance between the accuracy of the approximation and the complexity of the Taylor series expansion."
      ]
    },
    {
      "cell_type": "code",
      "execution_count": null,
      "metadata": {
        "id": "5zSk4TBkyBEQ",
        "colab": {
          "base_uri": "https://localhost:8080/",
          "height": 281
        },
        "outputId": "093be82b-735d-40bc-b9ea-948f8847a1e2"
      },
      "outputs": [
        {
          "output_type": "display_data",
          "data": {
            "text/plain": [
              "<Figure size 432x288 with 1 Axes>"
            ],
            "image/png": "[encoded data removed]"
          },
          "metadata": {
            "needs_background": "light"
          }
        }
      ],
      "source": [
        "# Write appropiate code here\n",
        "x = np.arange(-2, 2.1, 0.1)\n",
        "y = f(x)\n",
        "\n",
        "a = 0\n",
        "y_app_1 = f_taylor(x, a, 1)\n",
        "y_app_2 = f_taylor(x, a, 2)\n",
        "y_app_3 = f_taylor(x, a, 3)\n",
        "y_app_5 = f_taylor(x, a, 5)\n",
        "y_app_10 = f_taylor(x, a, 10)\n",
        "\n",
        "plt.title(\"Taylor Series Approximation\")\n",
        "plt.plot(x, y, label = 'f(x)', color = \"red\")\n",
        "plt.plot(x, y_app_1, color = \"yellow\")\n",
        "plt.plot(x, y_app_2, color = \"blue\")\n",
        "plt.plot(x, y_app_3, color = \"brown\")\n",
        "plt.plot(x, y_app_5, color = \"orange\")\n",
        "plt.plot(x, y_app_10, color = \"black\")\n",
        "\n",
        "plt.show()"
      ]
    }
  ],
  "metadata": {
    "kernelspec": {
      "display_name": "Python 3 (ipykernel)",
      "language": "python",
      "name": "python3"
    },
    "language_info": {
      "codemirror_mode": {
        "name": "ipython",
        "version": 3
      },
      "file_extension": ".py",
      "mimetype": "text/x-python",
      "name": "python",
      "nbconvert_exporter": "python",
      "pygments_lexer": "ipython3",
      "version": "3.10.0"
    },
    "vscode": {
      "interpreter": {
        "hash": "e7370f93d1d0cde622a1f8e1c04877d8463912d04d973331ad4851f04de6915a"
      }
    },
    "colab": {
      "provenance": [],
      "include_colab_link": true
    }
  },
  "nbformat": 4,
  "nbformat_minor": 0
}
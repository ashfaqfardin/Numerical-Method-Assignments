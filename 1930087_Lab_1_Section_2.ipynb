{
  "nbformat": 4,
  "nbformat_minor": 0,
  "metadata": {
    "colab": {
      "provenance": [],
      "include_colab_link": true
    },
    "kernelspec": {
      "name": "python3",
      "display_name": "Python 3"
    },
    "language_info": {
      "name": "python"
    }
  },
  "cells": [
    {
      "cell_type": "markdown",
      "metadata": {
        "id": "view-in-github",
        "colab_type": "text"
      },
      "source": [
        "<a href=\"https://colab.research.google.com/github/ashfaqfardin/Numerical-Method-Assignments/blob/main/1930087_Lab_1_Section_2.ipynb\" target=\"_parent\"><img src=\"https://colab.research.google.com/assets/colab-badge.svg\" alt=\"Open In Colab\"/></a>"
      ]
    },
    {
      "cell_type": "code",
      "execution_count": null,
      "metadata": {
        "id": "iDTGuoDcnZbp"
      },
      "outputs": [],
      "source": [
        "var1 = 1\n",
        "var2 = \"Hello World\"\n",
        "var3 = 3.0"
      ]
    },
    {
      "cell_type": "code",
      "source": [
        "print(type(var1), type(var2), type(var3))"
      ],
      "metadata": {
        "id": "_Dj4uEvGpyOD",
        "colab": {
          "base_uri": "https://localhost:8080/"
        },
        "outputId": "faf183ba-93bf-48d2-dd93-5403c49ac81e"
      },
      "execution_count": null,
      "outputs": [
        {
          "output_type": "stream",
          "name": "stdout",
          "text": [
            "<class 'int'> <class 'str'> <class 'float'>\n"
          ]
        }
      ]
    },
    {
      "cell_type": "code",
      "source": [
        "var = [var1, var2, var3]\n",
        "print(var[-1])"
      ],
      "metadata": {
        "id": "sVopvGOboI-O",
        "colab": {
          "base_uri": "https://localhost:8080/"
        },
        "outputId": "92c32896-275d-46a3-f0bc-9cb0864d224f"
      },
      "execution_count": null,
      "outputs": [
        {
          "output_type": "stream",
          "name": "stdout",
          "text": [
            "3.0\n"
          ]
        }
      ]
    },
    {
      "cell_type": "code",
      "source": [
        "var = [8, 9, 10, 11, 12, 13, 14, 0, 1, 2, 3, 4, 5, 6, 7]\n",
        "\n",
        "for i in var:\n",
        "  print(i, end = \"  \")"
      ],
      "metadata": {
        "id": "P5Pi_P2Rsd2U",
        "colab": {
          "base_uri": "https://localhost:8080/"
        },
        "outputId": "ddbec83e-60ea-4a46-cbb7-124dc0ed1612"
      },
      "execution_count": null,
      "outputs": [
        {
          "output_type": "stream",
          "name": "stdout",
          "text": [
            "8  9  10  11  12  13  14  0  1  2  3  4  5  6  7  "
          ]
        }
      ]
    },
    {
      "cell_type": "code",
      "source": [
        "for i in range(0, 15, 2):\n",
        "  print(var[i], end = \"  \")"
      ],
      "metadata": {
        "id": "Pd9OYZcDuFk9",
        "colab": {
          "base_uri": "https://localhost:8080/"
        },
        "outputId": "bd1259d3-f898-44ed-b11d-c21df3f728a8"
      },
      "execution_count": null,
      "outputs": [
        {
          "output_type": "stream",
          "name": "stdout",
          "text": [
            "8  10  12  14  1  3  5  7  "
          ]
        }
      ]
    },
    {
      "cell_type": "code",
      "source": [
        "x = 0\n",
        "y = 5\n",
        "if x == 0 and y == 2:\n",
        "  print(\"condition met\")\n",
        "elif x !=0 and y == 5:\n",
        "  print(\"X is Non-Zero\")\n",
        "else:\n",
        "  print(\"condition not met\")"
      ],
      "metadata": {
        "id": "VcPZ8i_Xvf69",
        "colab": {
          "base_uri": "https://localhost:8080/"
        },
        "outputId": "b0e4114a-c152-4571-f63b-4852196c0d0f"
      },
      "execution_count": null,
      "outputs": [
        {
          "output_type": "stream",
          "name": "stdout",
          "text": [
            "condition not met\n"
          ]
        }
      ]
    },
    {
      "cell_type": "code",
      "source": [
        "def sum(a,b):\n",
        "  s = a+b\n",
        "  return s"
      ],
      "metadata": {
        "id": "Y1mEbeZJvwk8"
      },
      "execution_count": null,
      "outputs": []
    },
    {
      "cell_type": "code",
      "source": [
        "sum(1, 5)"
      ],
      "metadata": {
        "id": "rutPur3kxRGe",
        "colab": {
          "base_uri": "https://localhost:8080/"
        },
        "outputId": "a23d8785-b5e3-48a1-9a98-324aeffb7459"
      },
      "execution_count": null,
      "outputs": [
        {
          "output_type": "execute_result",
          "data": {
            "text/plain": [
              "6"
            ]
          },
          "metadata": {},
          "execution_count": 8
        }
      ]
    },
    {
      "cell_type": "code",
      "source": [],
      "metadata": {
        "id": "s8vIaKtmxx_l"
      },
      "execution_count": null,
      "outputs": []
    },
    {
      "cell_type": "code",
      "source": [
        "a = []\n",
        "print(a)\n",
        "a.append(10)\n",
        "print(a)\n",
        "a.append(20)\n",
        "print(a)\n",
        "a.append(50)\n",
        "print(a)"
      ],
      "metadata": {
        "id": "05s24zeFx1ws",
        "colab": {
          "base_uri": "https://localhost:8080/"
        },
        "outputId": "bd76337b-ff6f-433e-e773-20b63ccdbb9f"
      },
      "execution_count": null,
      "outputs": [
        {
          "output_type": "stream",
          "name": "stdout",
          "text": [
            "[]\n",
            "[10]\n",
            "[10, 20]\n",
            "[10, 20, 50]\n"
          ]
        }
      ]
    },
    {
      "cell_type": "code",
      "source": [
        "var_list = [39, 50, 60, 81]\n",
        "\n",
        "def compile_result(var_list):\n",
        "  result_list = []\n",
        "  for idv_score in var_list:\n",
        "    if idv_score >= 80:\n",
        "      result = \"A+\"\n",
        "    elif idv_score>=40 and idv_score < 80:\n",
        "      result = \"pass\"\n",
        "    else:\n",
        "      result = \"fail\"\n",
        "    result_list.append(result) \n",
        "  return result_list \n",
        "  # [\"fail\", \"pass\", \"pass\", \"A+\"]"
      ],
      "metadata": {
        "id": "VLeHgjA0xga9"
      },
      "execution_count": null,
      "outputs": []
    },
    {
      "cell_type": "code",
      "source": [
        "print(compile_result(var_list))"
      ],
      "metadata": {
        "colab": {
          "base_uri": "https://localhost:8080/"
        },
        "id": "O4odxTYBzn8P",
        "outputId": "b79fd549-e431-4ba1-8f38-54a5b6d9a3ee"
      },
      "execution_count": null,
      "outputs": [
        {
          "output_type": "stream",
          "name": "stdout",
          "text": [
            "['fail', 'pass', 'pass', 'A+']\n"
          ]
        }
      ]
    },
    {
      "cell_type": "code",
      "source": [
        "def sign(x):\n",
        "    if x > 0:\n",
        "        return 'positive'\n",
        "    elif x < 0:\n",
        "        return 'negative'\n",
        "    else:\n",
        "        return 'neutral'\n",
        "\n",
        "print(sign(-1))\n",
        "print(sign(0))\n",
        "print(sign(1))"
      ],
      "metadata": {
        "colab": {
          "base_uri": "https://localhost:8080/"
        },
        "id": "pvIWxceX1pow",
        "outputId": "f939aa99-0a0f-42a8-f729-386f925fc07a"
      },
      "execution_count": null,
      "outputs": [
        {
          "output_type": "stream",
          "name": "stdout",
          "text": [
            "negative\n",
            "neutral\n",
            "positive\n"
          ]
        }
      ]
    },
    {
      "cell_type": "code",
      "source": [
        "l1 = [1]\n",
        "l2 = [2]\n",
        "\n",
        "l2 + l1"
      ],
      "metadata": {
        "colab": {
          "base_uri": "https://localhost:8080/"
        },
        "id": "Tr1iU-Pm2-q3",
        "outputId": "fc71a598-4afa-4949-e80f-9c02c60597bd"
      },
      "execution_count": null,
      "outputs": [
        {
          "output_type": "execute_result",
          "data": {
            "text/plain": [
              "[2, 1]"
            ]
          },
          "metadata": {},
          "execution_count": 13
        }
      ]
    },
    {
      "cell_type": "code",
      "source": [
        "# !pip install numpy"
      ],
      "metadata": {
        "id": "o-fkK2082UQ-"
      },
      "execution_count": null,
      "outputs": []
    },
    {
      "cell_type": "code",
      "source": [
        "import numpy as np"
      ],
      "metadata": {
        "id": "Q-6lBad02mge"
      },
      "execution_count": null,
      "outputs": []
    },
    {
      "cell_type": "code",
      "source": [
        "arr1  = np.array([1])\n",
        "arr2  = np.array([5])\n",
        "\n",
        "arr1+arr2"
      ],
      "metadata": {
        "colab": {
          "base_uri": "https://localhost:8080/"
        },
        "id": "ALlG5FWW26Iv",
        "outputId": "33490bbc-eb8a-41ed-e6af-731fa57c1515"
      },
      "execution_count": null,
      "outputs": [
        {
          "output_type": "execute_result",
          "data": {
            "text/plain": [
              "array([6])"
            ]
          },
          "metadata": {},
          "execution_count": 16
        }
      ]
    },
    {
      "cell_type": "code",
      "source": [
        "a = np.array([2, 3, 4])   # Create array(1D) from python list\n",
        "print(a[0])               # Access elements using square brackets\n",
        "\n",
        "a[0] = 1                  # Change an element of the array\n",
        "print(a)                  # Prints \"[1, 3, 4]\"\n"
      ],
      "metadata": {
        "colab": {
          "base_uri": "https://localhost:8080/"
        },
        "id": "UtUfVhzR3zV3",
        "outputId": "5b37bea3-5daa-4c1e-f2fd-8a0ca1b16d3e"
      },
      "execution_count": null,
      "outputs": [
        {
          "output_type": "stream",
          "name": "stdout",
          "text": [
            "2\n",
            "[1 3 4]\n"
          ]
        }
      ]
    },
    {
      "cell_type": "code",
      "source": [
        "b = np.array([[2, 3, 4], \n",
        "             [5, 6, 7]])  # Create a 2D array\n",
        "\n",
        "print(b[0, 1])                        # Prints 3\n"
      ],
      "metadata": {
        "colab": {
          "base_uri": "https://localhost:8080/"
        },
        "id": "FrnkBcNd4L4H",
        "outputId": "3dd1e745-3d09-4b1a-945f-c4f35cea4054"
      },
      "execution_count": null,
      "outputs": [
        {
          "output_type": "stream",
          "name": "stdout",
          "text": [
            "3\n"
          ]
        }
      ]
    },
    {
      "cell_type": "code",
      "source": [
        "b = np.array([[2, 3, 4], [5, 6, 7]])  # Create a 2D array\n",
        "print(b[0, 1])                        # Prints 3\n",
        "\n",
        "b[1, 1] = 1                           # Change an element of the array\n",
        "print(b[0, 0], b[0, 1], b[1, 0])      # Prints \"2 3 5\"\n",
        "\n",
        "                     # Prints \"2.0\""
      ],
      "metadata": {
        "colab": {
          "base_uri": "https://localhost:8080/"
        },
        "id": "X5NjaQKq3j9_",
        "outputId": "ff93dd0b-63b2-4a15-a630-73d312e82467"
      },
      "execution_count": null,
      "outputs": [
        {
          "output_type": "stream",
          "name": "stdout",
          "text": [
            "3\n",
            "2 3 5\n"
          ]
        }
      ]
    },
    {
      "cell_type": "code",
      "source": [
        "c = np.array([(1.5, 2, 3), (4, 5, 6)])# Create a 2D float array\n",
        "print(c)   "
      ],
      "metadata": {
        "colab": {
          "base_uri": "https://localhost:8080/"
        },
        "id": "tuPRJIJ045u_",
        "outputId": "fdf08380-d506-4e45-8386-d700a05e1583"
      },
      "execution_count": null,
      "outputs": [
        {
          "output_type": "stream",
          "name": "stdout",
          "text": [
            "[[1.5 2.  3. ]\n",
            " [4.  5.  6. ]]\n"
          ]
        }
      ]
    },
    {
      "cell_type": "code",
      "source": [
        "print(a.ndim)             # Prints \"1\"\n",
        "print(b.ndim)             # Prints \"2\"\n",
        "\n",
        "print(a.shape)            # Prints \"(3,)\"\n",
        "print(b.shape)            # Prints \"(2, 3)\"\n",
        "\n",
        "print(a.size)             # Prints \"3\"\n",
        "print(b.size)             # Prints \"6\"\n",
        "\n",
        "print(a.dtype)            # Prints \"int64\"\n",
        "print(c.dtype)            # Prints \"float64\""
      ],
      "metadata": {
        "colab": {
          "base_uri": "https://localhost:8080/"
        },
        "id": "3IXi0u_45Npv",
        "outputId": "8e92a4e8-1249-47e3-f8a0-aadebf610a95"
      },
      "execution_count": null,
      "outputs": [
        {
          "output_type": "stream",
          "name": "stdout",
          "text": [
            "1\n",
            "2\n",
            "(3,)\n",
            "(2, 3)\n",
            "3\n",
            "6\n",
            "int64\n",
            "float64\n"
          ]
        }
      ]
    },
    {
      "cell_type": "code",
      "source": [
        "a = np.zeros((2,3))      # Create an array of all zeros\n",
        "print(a)                 # Prints \"[[ 0.  0.]\n",
        "                         #          [ 0.  0.]]\""
      ],
      "metadata": {
        "colab": {
          "base_uri": "https://localhost:8080/"
        },
        "id": "lnj4sM8Yua5q",
        "outputId": "085bfd21-f749-4f5a-d2cc-0c4dd758d2b4"
      },
      "execution_count": null,
      "outputs": [
        {
          "output_type": "stream",
          "name": "stdout",
          "text": [
            "[[0. 0. 0.]\n",
            " [0. 0. 0.]]\n"
          ]
        }
      ]
    },
    {
      "cell_type": "code",
      "source": [
        "a = np.zeros((2,2))      # Create an array of all zeros\n",
        "print(a)                 # Prints \"[[ 0.  0.]\n",
        "                         #          [ 0.  0.]]\"\n",
        "\n",
        "b = np.ones((1,2))       # Create an array of all ones\n",
        "print(b)                 # Prints \"[[ 1.  1.]]\"\n",
        "\n",
        "c = np.full((2,2), 7)    # Create a constant array\n",
        "print(c)                 # Prints \"[[ 7.  7.]\n",
        "                         #          [ 7.  7.]]\"\n",
        "\n",
        "d = np.eye(2)            # Create a 2x2 identity matrix\n",
        "print(d)                 # Prints \"[[ 1.  0.]\n",
        "                         #          [ 0.  1.]]\"\n",
        "\n",
        "e = np.random.random((2,2))  # Create an array filled with random values\n",
        "print(e)                     # Might print \"[[ 0.91940167  0.08143941]\n",
        "                             #               [ 0.68744134  0.87236687]]\"\n",
        "\n",
        "f = np.arange(3)         # Create an array filed with 0 to 2\n",
        "print(f)                 # Prints \"[0 1 2]\"\n",
        "\n",
        "g = np.linspace(2, 10, 5)    # Return evenly spaced 5 numbers over interval 2-10\n",
        "print(g)                     # Prints [ 2.  4.  6.  8. 10.]"
      ],
      "metadata": {
        "colab": {
          "base_uri": "https://localhost:8080/"
        },
        "id": "xihn_kamvhTb",
        "outputId": "4aaf7e5d-407e-4e9f-8d8b-3f4fdce99f84"
      },
      "execution_count": null,
      "outputs": [
        {
          "output_type": "stream",
          "name": "stdout",
          "text": [
            "[[0. 0.]\n",
            " [0. 0.]]\n",
            "[[1. 1.]]\n",
            "[[7 7]\n",
            " [7 7]]\n",
            "[[1. 0.]\n",
            " [0. 1.]]\n",
            "[[0.4229986  0.91305197]\n",
            " [0.88654516 0.7580752 ]]\n",
            "[0 1 2]\n",
            "[ 2.  4.  6.  8. 10.]\n"
          ]
        }
      ]
    },
    {
      "cell_type": "code",
      "source": [
        "a = np.arange(10)**3     # In python \"**\" means power x**3 = x^3\n",
        "print(a)                 # Prints \"[0 1 8 27 64 125 216 343 512 729]\"\n",
        "\n",
        "print(a[2])              # Prints \"8\"\n",
        "print(a[2:5])            # Prints \"[8 27 64]\"\n",
        "print(a[:6])             # Prints \"[0 1 8 27 64 125]\"\n",
        "print(a[2:])             # Prints \"[8 27 64 125 216 343 512 729]\"\n",
        "print(a[2:10:3])            # Prints \"[8 125 512]\"\n",
        "\n",
        "print(a[::-1])           # Prints reversed array\n",
        "\n",
        "a[:6:2] = 1000           # From start to position 6 (exclusive) set every 2nd element to 1000\n",
        "print(a)                 # Prints \"[1000 1 1000 27 1000 125 216 343 512 729]\"\n",
        "\n",
        "# Iterating over array\n",
        "for element in a:\n",
        "  print(element**(1/3.))"
      ],
      "metadata": {
        "colab": {
          "base_uri": "https://localhost:8080/"
        },
        "id": "GrZ1XfYbxU6K",
        "outputId": "86bae030-5e20-4d83-e2ca-3d055d36cd8e"
      },
      "execution_count": null,
      "outputs": [
        {
          "output_type": "stream",
          "name": "stdout",
          "text": [
            "[  0   1   8  27  64 125 216 343 512 729]\n",
            "8\n",
            "[ 8 27 64]\n",
            "[  0   1   8  27  64 125]\n",
            "[  8  27  64 125 216 343 512 729]\n",
            "[  8 125 512]\n",
            "[729 512 343 216 125  64  27   8   1   0]\n",
            "[1000    1 1000   27 1000  125  216  343  512  729]\n",
            "9.999999999999998\n",
            "1.0\n",
            "9.999999999999998\n",
            "3.0\n",
            "9.999999999999998\n",
            "4.999999999999999\n",
            "5.999999999999999\n",
            "6.999999999999999\n",
            "7.999999999999999\n",
            "8.999999999999998\n"
          ]
        }
      ]
    },
    {
      "cell_type": "code",
      "source": [
        "b = np.array([[ 0,  1,  2,  3],\n",
        "              [10, 11, 12, 13],\n",
        "              [20, 21, 22, 23],\n",
        "              [30, 31, 32, 33],\n",
        "              [40, 41, 42, 43]])\n",
        "\n",
        "print(b[2, 3])           # Prints \"23\"\n",
        "\n",
        "print(b[:, 1])           # Print second column of b\n",
        "print(b[:, 1:3])         # Print second and third column of b\n",
        "print(b[:2, 2])          # Print first 2 rows in the third column of b\n",
        "print(b[-2:, 1])         # Print last 2 rows in the second column of b\n",
        "print(b[1:4, 2])         # Print rows 2-4 in the third column of b\n",
        "\n",
        "print()\n",
        "\n",
        "print(b[3, :])           # Print fourth row of b\n",
        "print(b[1:3, :])         # Print second and third row of b\n",
        "print(b[2, :2])          # Print first 2 columns in the third row of b\n",
        "print(b[1, -2:])         # Print last 2 columns in the second row of b\n",
        "print(b[2, 1:4])         # Print columns 2-4 in the third row of b\n",
        "\n",
        "# # Iterating over 2D array\n",
        "# for row in b:\n",
        "#   for col in row:\n",
        "#     print(col, end=' ')\n",
        "#   print()"
      ],
      "metadata": {
        "colab": {
          "base_uri": "https://localhost:8080/"
        },
        "id": "QsLyOmDly-By",
        "outputId": "a4f93e62-af24-43a9-890e-ad183b7fc95b"
      },
      "execution_count": null,
      "outputs": [
        {
          "output_type": "stream",
          "name": "stdout",
          "text": [
            "23\n",
            "[ 1 11 21 31 41]\n",
            "[[ 1  2]\n",
            " [11 12]\n",
            " [21 22]\n",
            " [31 32]\n",
            " [41 42]]\n",
            "[ 2 12]\n",
            "[31 41]\n",
            "[12 22 32]\n",
            "\n",
            "[30 31 32 33]\n",
            "[[10 11 12 13]\n",
            " [20 21 22 23]]\n",
            "[20 21]\n",
            "[12 13]\n",
            "[21 22 23]\n"
          ]
        }
      ]
    },
    {
      "cell_type": "code",
      "source": [
        "a = np.array([[1,2], \n",
        "              [3, 4], \n",
        "              [5, 6]])\n",
        "\n",
        "# We can do all of the above in a single concise statement:\n",
        "print(a[a != 2])      # Prints \"[3 4 5 6]\""
      ],
      "metadata": {
        "colab": {
          "base_uri": "https://localhost:8080/"
        },
        "id": "3TOkBKwP32vx",
        "outputId": "e1cc3e33-dd43-4905-b1a0-ca14a415fb4c"
      },
      "execution_count": null,
      "outputs": [
        {
          "output_type": "stream",
          "name": "stdout",
          "text": [
            "[2 3 4 5 6]\n"
          ]
        }
      ]
    },
    {
      "cell_type": "code",
      "source": [
        "a != 2"
      ],
      "metadata": {
        "colab": {
          "base_uri": "https://localhost:8080/"
        },
        "id": "OnZVEo334Ahk",
        "outputId": "b0b695bf-2ea1-4926-f3bf-ed49b5885e3f"
      },
      "execution_count": null,
      "outputs": [
        {
          "output_type": "execute_result",
          "data": {
            "text/plain": [
              "array([[ True, False],\n",
              "       [ True,  True],\n",
              "       [ True,  True]])"
            ]
          },
          "metadata": {},
          "execution_count": 43
        }
      ]
    },
    {
      "cell_type": "code",
      "source": [
        "b = np.array([[ 0,  1,  2,  3],\n",
        "              [ 4,  5,  6,  7],\n",
        "              [ 8,  9, 10, 11]])\n",
        "\n",
        "print(b.sum(axis=0))   # sum of each column\n",
        "print(b.min(axis=1))   # min of each row\n",
        "print(b.cumsum(axis=1))# cumulative sum along each row"
      ],
      "metadata": {
        "colab": {
          "base_uri": "https://localhost:8080/"
        },
        "id": "uHrw-Hg-35A8",
        "outputId": "813e0bc2-3b30-4f7f-dc19-7134ea2bc1ae"
      },
      "execution_count": null,
      "outputs": [
        {
          "output_type": "stream",
          "name": "stdout",
          "text": [
            "[12 15 18 21]\n",
            "[0 4 8]\n",
            "[[ 0  1  3  6]\n",
            " [ 4  9 15 22]\n",
            " [ 8 17 27 38]]\n"
          ]
        }
      ]
    },
    {
      "cell_type": "code",
      "source": [
        "v = np.array([9,10])\n",
        "w = np.array([11, 12])\n",
        "\n",
        "# Inner product of vectors; both produce 219\n",
        "print(v * w)"
      ],
      "metadata": {
        "colab": {
          "base_uri": "https://localhost:8080/"
        },
        "id": "PxwHjl4d5DGC",
        "outputId": "ab9bfe00-b157-45f8-e3f1-f0f8a77327a1"
      },
      "execution_count": null,
      "outputs": [
        {
          "output_type": "stream",
          "name": "stdout",
          "text": [
            "[ 99 120]\n"
          ]
        }
      ]
    },
    {
      "cell_type": "code",
      "source": [
        "import matplotlib.pyplot as plt"
      ],
      "metadata": {
        "id": "t5CGuK0Y5nEq"
      },
      "execution_count": null,
      "outputs": []
    },
    {
      "cell_type": "code",
      "source": [
        "!ls"
      ],
      "metadata": {
        "colab": {
          "base_uri": "https://localhost:8080/"
        },
        "id": "K9o76eLe6F-J",
        "outputId": "f6efa781-919a-4391-c575-83f94b5d112f"
      },
      "execution_count": null,
      "outputs": [
        {
          "output_type": "stream",
          "name": "stdout",
          "text": [
            "cat.jpg  sample_data\n"
          ]
        }
      ]
    },
    {
      "cell_type": "code",
      "source": [
        "img = plt.imread(\"cat.jpg\")\n",
        "print(img.shape)\n",
        "plt.imshow(img)"
      ],
      "metadata": {
        "colab": {
          "base_uri": "https://localhost:8080/",
          "height": 304
        },
        "id": "_StX4wFq6DrS",
        "outputId": "9172e2ec-8d1a-4894-a931-f4c7aa239d86"
      },
      "execution_count": null,
      "outputs": [
        {
          "output_type": "stream",
          "name": "stdout",
          "text": [
            "(428, 407, 3)\n"
          ]
        },
        {
          "output_type": "execute_result",
          "data": {
            "text/plain": [
              "<matplotlib.image.AxesImage at 0x7fbfe6e64c40>"
            ]
          },
          "metadata": {},
          "execution_count": 55
        },
        {
          "output_type": "display_data",
          "data": {
            "text/plain": [
              "<Figure size 432x288 with 1 Axes>"
            ],
            "image/png": "[encoded data removed]"
          },
          "metadata": {
            "needs_background": "light"
          }
        }
      ]
    }
  ]
}